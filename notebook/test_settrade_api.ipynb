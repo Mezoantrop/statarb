{
 "cells": [
  {
   "cell_type": "code",
   "execution_count": 1,
   "metadata": {},
   "outputs": [],
   "source": [
    "import settrade_v2 as st\n",
    "import os\n",
    "APP_ID = os.getenv('SETTRADE_APP_ID')\n",
    "APP_SECRET = os.getenv('SETTRADE_APP_SECRET')"
   ]
  },
  {
   "cell_type": "code",
   "execution_count": 7,
   "metadata": {},
   "outputs": [],
   "source": [
    "# https://developer.settrade.com/open-api/manage-api-user\n",
    "investor = st.Investor(\n",
    "                app_id=APP_ID,                                 \n",
    "                app_secret=APP_SECRET, \n",
    "                broker_id=\"SANDBOX\",\n",
    "                app_code=\"SANDBOX\",\n",
    "                is_auto_queue = False)\n",
    "\n",
    "deri = investor.Derivatives(account_no=\"Woraphon-D\")\n",
    "equity = investor.Equity(account_no=\"Woraphon-E\")         "
   ]
  },
  {
   "cell_type": "code",
   "execution_count": 9,
   "metadata": {},
   "outputs": [
    {
     "data": {
      "text/plain": [
       "{'creditLine': 2000000000.0,\n",
       " 'excessEquity': 2000000000.0,\n",
       " 'cashBalance': 2000000000.0,\n",
       " 'equity': 2000000000.0,\n",
       " 'totalMR': 0.0,\n",
       " 'totalMM': 0.0,\n",
       " 'totalFM': 0.0,\n",
       " 'callForceFlag': 'No',\n",
       " 'callForceMargin': 0.0,\n",
       " 'liquidationValue': 2000000000.0,\n",
       " 'depositWithdrawal': 0.0,\n",
       " 'callForceMarginMM': 0.0,\n",
       " 'initialMargin': 0.0,\n",
       " 'closingMethod': 'Auto Net'}"
      ]
     },
     "execution_count": 9,
     "metadata": {},
     "output_type": "execute_result"
    }
   ],
   "source": [
    "deri_info = deri.get_account_info()\n",
    "deri_info                                              "
   ]
  },
  {
   "cell_type": "code",
   "execution_count": 11,
   "metadata": {},
   "outputs": [
    {
     "data": {
      "text/plain": [
       "{'lineAvailable': 10000000.0,\n",
       " 'creditLimit': 10000000.0,\n",
       " 'cashBalance': 10000000.0,\n",
       " 'accountType': 'CASH_ACCOUNT',\n",
       " 'clientType': 'INDIVIDUAL',\n",
       " 'customerType': 'CUSTOMER',\n",
       " 'canBuy': True,\n",
       " 'canSell': True,\n",
       " 'crossingKey': '0',\n",
       " 'initialCreditLimit': 10000000.0,\n",
       " 'initialCashBalance': 10000000.0,\n",
       " 'initialLineAvailable': 10000000.0,\n",
       " 'creditBalance': False}"
      ]
     },
     "execution_count": 11,
     "metadata": {},
     "output_type": "execute_result"
    }
   ],
   "source": [
    "eq_info = equity.get_account_info()\n",
    "eq_info"
   ]
  }
 ],
 "metadata": {
  "kernelspec": {
   "display_name": "arbitrage",
   "language": "python",
   "name": "python3"
  },
  "language_info": {
   "codemirror_mode": {
    "name": "ipython",
    "version": 3
   },
   "file_extension": ".py",
   "mimetype": "text/x-python",
   "name": "python",
   "nbconvert_exporter": "python",
   "pygments_lexer": "ipython3",
   "version": "3.11.3"
  },
  "orig_nbformat": 4
 },
 "nbformat": 4,
 "nbformat_minor": 2
}
